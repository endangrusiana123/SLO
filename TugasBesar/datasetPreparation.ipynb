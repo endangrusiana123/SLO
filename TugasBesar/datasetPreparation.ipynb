{
  "nbformat": 4,
  "nbformat_minor": 0,
  "metadata": {
    "colab": {
      "provenance": [],
      "authorship_tag": "ABX9TyORHvufOEElS/RPqXqe1KIt",
      "include_colab_link": true
    },
    "kernelspec": {
      "name": "python3",
      "display_name": "Python 3"
    },
    "language_info": {
      "name": "python"
    }
  },
  "cells": [
    {
      "cell_type": "markdown",
      "metadata": {
        "id": "view-in-github",
        "colab_type": "text"
      },
      "source": [
        "<a href=\"https://colab.research.google.com/github/endangrusiana123/SLO/blob/main/TugasBesar/datasetPreparation.ipynb\" target=\"_parent\"><img src=\"https://colab.research.google.com/assets/colab-badge.svg\" alt=\"Open In Colab\"/></a>"
      ]
    },
    {
      "cell_type": "markdown",
      "source": [
        "<center>\n",
        "\n",
        "**Kelompok 7**\n",
        "\n",
        "**\"Diagnosis of Cassava Leaf Diseases\"**\n",
        "\n",
        "| No.| Nama | NIM |\n",
        "|:-----:|:-----:|:-----:|\n",
        "| 1.  |Endang Rusiana| 201012320036 |\n",
        "| 2. |Rachelina Putri Arta S|201012320020|\n",
        "| 3. |Iqbal Kurniawan Perdana|201012320002|\n",
        "| 4. |Rizky Araffathia|201012320003|\n",
        "\n",
        "</center>"
      ],
      "metadata": {
        "id": "QjoUV6YJox64"
      }
    },
    {
      "cell_type": "markdown",
      "source": [
        "# Download dataset"
      ],
      "metadata": {
        "id": "K7ED2OlAqQwp"
      }
    },
    {
      "cell_type": "code",
      "execution_count": null,
      "metadata": {
        "id": "lV8R_9x9ohpx"
      },
      "outputs": [],
      "source": [
        "from google.colab import userdata\n",
        "import os\n",
        "\n",
        "os.environ[\"KAGGLE_KEY\"] = userdata.get('KAGGLE_KEY')\n",
        "os.environ[\"KAGGLE_USERNAME\"] = userdata.get('KAGGLE_USERNAME')\n",
        "\n",
        "!kaggle competitions download -c cassava-leaf-disease-classification\n",
        "!unzip \"cassava-leaf-disease-classification.zip\""
      ]
    },
    {
      "cell_type": "markdown",
      "source": [
        "# Save dataset into Google Drive"
      ],
      "metadata": {
        "id": "WZaLJn_DqTqc"
      }
    },
    {
      "cell_type": "markdown",
      "source": [
        "mount g-drive"
      ],
      "metadata": {
        "id": "GWmBRh42qYcA"
      }
    },
    {
      "cell_type": "code",
      "source": [
        "from google.colab import drive\n",
        "drive.mount('/content/drive')"
      ],
      "metadata": {
        "colab": {
          "base_uri": "https://localhost:8080/"
        },
        "id": "-yUukWoUqXih",
        "outputId": "0186cc1a-51e2-4054-903a-a0bc6b96b901"
      },
      "execution_count": 2,
      "outputs": [
        {
          "output_type": "stream",
          "name": "stdout",
          "text": [
            "Mounted at /content/drive\n"
          ]
        }
      ]
    },
    {
      "cell_type": "markdown",
      "source": [
        "Create new dataset"
      ],
      "metadata": {
        "id": "PMByL1CSqa-M"
      }
    },
    {
      "cell_type": "code",
      "source": [
        "import os\n",
        "import shutil\n",
        "import pandas as pd\n",
        "import numpy as np\n",
        "\n",
        "# Define paths\n",
        "train_images_path = 'train_images'\n",
        "train_csv_path = 'train.csv'\n",
        "new_train_images_path = '/content/drive/MyDrive/Colab Notebooks/SLO/Tugas_Besar/Submit/new_train_images'\n",
        "\n",
        "# Read the CSV file\n",
        "train_df = pd.read_csv(train_csv_path)\n",
        "\n",
        "# Create the new directory structure\n",
        "if not os.path.exists(new_train_images_path):\n",
        "    os.makedirs(new_train_images_path)\n",
        "\n",
        "# Group by label and sample up to 100 images per class\n",
        "grouped = train_df.groupby('label')\n",
        "for label, group in grouped:\n",
        "    label_dir = os.path.join(new_train_images_path, str(label))\n",
        "    if not os.path.exists(label_dir):\n",
        "        os.makedirs(label_dir)\n",
        "\n",
        "    sampled_group = group.sample(n=min(100, len(group)), random_state=42)\n",
        "\n",
        "    for _, row in sampled_group.iterrows():\n",
        "        image_id = row['image_id']\n",
        "        src_path = os.path.join(train_images_path, image_id)\n",
        "        dst_path = os.path.join(label_dir, image_id)\n",
        "        if os.path.exists(src_path):\n",
        "            shutil.copy(src_path, dst_path)\n",
        "\n",
        "print(\"Images have been successfully copied into 'new_train_images' directory.\")\n"
      ],
      "metadata": {
        "colab": {
          "base_uri": "https://localhost:8080/"
        },
        "id": "pPsM7njrqeUh",
        "outputId": "136d4ba4-946b-496d-eaa6-68b78994f5ab"
      },
      "execution_count": 3,
      "outputs": [
        {
          "output_type": "stream",
          "name": "stdout",
          "text": [
            "Images have been successfully copied into 'new_train_images' directory.\n"
          ]
        }
      ]
    },
    {
      "cell_type": "markdown",
      "source": [
        "check file"
      ],
      "metadata": {
        "id": "lmWWrf9hzf_N"
      }
    },
    {
      "cell_type": "code",
      "source": [
        "import os\n",
        "\n",
        "# Folder path\n",
        "folder_path = '/content/drive/MyDrive/Colab Notebooks/SLO/Tugas_Besar/Submit/new_train_images'\n",
        "\n",
        "# Count number of files in each subfolder (0 to 4)\n",
        "for i in range(5):\n",
        "    subfolder_path = os.path.join(folder_path, str(i))\n",
        "    files = os.listdir(subfolder_path)\n",
        "    num_files = len(files)\n",
        "    print(f\"Number of files in folder {i}: {num_files}\")\n"
      ],
      "metadata": {
        "colab": {
          "base_uri": "https://localhost:8080/"
        },
        "id": "BVZuZobfziNw",
        "outputId": "dd429db6-39df-455a-9db0-733b9f39e3f6"
      },
      "execution_count": 5,
      "outputs": [
        {
          "output_type": "stream",
          "name": "stdout",
          "text": [
            "Number of files in folder 0: 100\n",
            "Number of files in folder 1: 100\n",
            "Number of files in folder 2: 100\n",
            "Number of files in folder 3: 100\n",
            "Number of files in folder 4: 100\n"
          ]
        }
      ]
    },
    {
      "cell_type": "markdown",
      "source": [
        "# split dataset"
      ],
      "metadata": {
        "id": "xf2LeEvzyBWI"
      }
    },
    {
      "cell_type": "code",
      "source": [
        "import os\n",
        "import shutil\n",
        "import random\n",
        "from pathlib import Path\n",
        "\n",
        "# Define paths\n",
        "dataset_path = \"/content/drive/MyDrive/Colab Notebooks/SLO/Tugas_Besar/Submit/new_train_images/\"\n",
        "train_path = \"/content/drive/MyDrive/Colab Notebooks/SLO/Tugas_Besar/Submit/used_dataset/train/\"\n",
        "val_path = \"/content/drive/MyDrive/Colab Notebooks/SLO/Tugas_Besar/Submit/used_dataset/validation/\"\n",
        "test_path = \"/content/drive/MyDrive/Colab Notebooks/SLO/Tugas_Besar/Submit/used_dataset/test/\"\n",
        "\n",
        "# Create directories if they don't exist\n",
        "os.makedirs(train_path, exist_ok=True)\n",
        "os.makedirs(val_path, exist_ok=True)\n",
        "os.makedirs(test_path, exist_ok=True)\n",
        "\n",
        "# Define split ratios\n",
        "train_ratio = 0.6\n",
        "val_ratio = 0.2\n",
        "test_ratio = 0.2\n",
        "\n",
        "# Loop through each class folder\n",
        "for class_folder in os.listdir(dataset_path):\n",
        "    class_path = os.path.join(dataset_path, class_folder)\n",
        "\n",
        "    # Get images in the current class folder\n",
        "    images = os.listdir(class_path)\n",
        "\n",
        "    # Shuffle the images randomly\n",
        "    random.shuffle(images)\n",
        "\n",
        "    # Calculate split indices\n",
        "    num_images = len(images)\n",
        "    train_split_index = int(train_ratio * num_images)\n",
        "    val_split_index = int((train_ratio + val_ratio) * num_images)\n",
        "\n",
        "    # Split the images into train, validation, and test sets\n",
        "    train_images = images[:train_split_index]\n",
        "    val_images = images[train_split_index:val_split_index]\n",
        "    test_images = images[val_split_index:]\n",
        "\n",
        "    # Move images to respective directories\n",
        "    for img in train_images:\n",
        "        src = os.path.join(class_path, img)\n",
        "        dst = os.path.join(train_path, class_folder, img)\n",
        "        os.makedirs(os.path.dirname(dst), exist_ok=True)\n",
        "        shutil.copy(src, dst)\n",
        "\n",
        "    for img in val_images:\n",
        "        src = os.path.join(class_path, img)\n",
        "        dst = os.path.join(val_path, class_folder, img)\n",
        "        os.makedirs(os.path.dirname(dst), exist_ok=True)\n",
        "        shutil.copy(src, dst)\n",
        "\n",
        "    for img in test_images:\n",
        "        src = os.path.join(class_path, img)\n",
        "        dst = os.path.join(test_path, class_folder, img)\n",
        "        os.makedirs(os.path.dirname(dst), exist_ok=True)\n",
        "        shutil.copy(src, dst)\n"
      ],
      "metadata": {
        "id": "BGE_Z09myD2x"
      },
      "execution_count": 6,
      "outputs": []
    },
    {
      "cell_type": "markdown",
      "source": [
        "check file"
      ],
      "metadata": {
        "id": "-aah_I3h1V71"
      }
    },
    {
      "cell_type": "code",
      "source": [
        "import os\n",
        "\n",
        "# Folder path\n",
        "folder_path = '/content/drive/MyDrive/Colab Notebooks/SLO/Tugas_Besar/Submit/used_dataset/train'\n",
        "\n",
        "print(\"count data train:\")\n",
        "# Count number of files in each subfolder (0 to 4)\n",
        "for i in range(5):\n",
        "    subfolder_path = os.path.join(folder_path, str(i))\n",
        "    files = os.listdir(subfolder_path)\n",
        "    num_files = len(files)\n",
        "    print(f\"Number of files in folder {i}: {num_files}\")\n",
        "\n",
        "# Folder path\n",
        "folder_path = '/content/drive/MyDrive/Colab Notebooks/SLO/Tugas_Besar/Submit/used_dataset/validation'\n",
        "\n",
        "print(\"count data validation:\")\n",
        "# Count number of files in each subfolder (0 to 4)\n",
        "for i in range(5):\n",
        "    subfolder_path = os.path.join(folder_path, str(i))\n",
        "    files = os.listdir(subfolder_path)\n",
        "    num_files = len(files)\n",
        "    print(f\"Number of files in folder {i}: {num_files}\")\n",
        "\n",
        "# Folder path\n",
        "folder_path = '/content/drive/MyDrive/Colab Notebooks/SLO/Tugas_Besar/Submit/used_dataset/test'\n",
        "\n",
        "print(\"count data test:\")\n",
        "# Count number of files in each subfolder (0 to 4)\n",
        "for i in range(5):\n",
        "    subfolder_path = os.path.join(folder_path, str(i))\n",
        "    files = os.listdir(subfolder_path)\n",
        "    num_files = len(files)\n",
        "    print(f\"Number of files in folder {i}: {num_files}\")"
      ],
      "metadata": {
        "colab": {
          "base_uri": "https://localhost:8080/"
        },
        "id": "RMpknZFm1XOf",
        "outputId": "625efef4-317d-404d-b193-f3532d748c17"
      },
      "execution_count": 10,
      "outputs": [
        {
          "output_type": "stream",
          "name": "stdout",
          "text": [
            "count data train:\n",
            "Number of files in folder 0: 60\n",
            "Number of files in folder 1: 60\n",
            "Number of files in folder 2: 60\n",
            "Number of files in folder 3: 60\n",
            "Number of files in folder 4: 60\n",
            "count data validation:\n",
            "Number of files in folder 0: 20\n",
            "Number of files in folder 1: 20\n",
            "Number of files in folder 2: 20\n",
            "Number of files in folder 3: 20\n",
            "Number of files in folder 4: 20\n",
            "count data test:\n",
            "Number of files in folder 0: 20\n",
            "Number of files in folder 1: 20\n",
            "Number of files in folder 2: 20\n",
            "Number of files in folder 3: 20\n",
            "Number of files in folder 4: 20\n"
          ]
        }
      ]
    }
  ]
}