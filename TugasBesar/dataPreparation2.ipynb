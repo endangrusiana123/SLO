{
  "nbformat": 4,
  "nbformat_minor": 0,
  "metadata": {
    "colab": {
      "provenance": [],
      "authorship_tag": "ABX9TyN0W2yM5IDXTI+yS0TbkPjR",
      "include_colab_link": true
    },
    "kernelspec": {
      "name": "python3",
      "display_name": "Python 3"
    },
    "language_info": {
      "name": "python"
    }
  },
  "cells": [
    {
      "cell_type": "markdown",
      "metadata": {
        "id": "view-in-github",
        "colab_type": "text"
      },
      "source": [
        "<a href=\"https://colab.research.google.com/github/endangrusiana123/SLO/blob/main/TugasBesar/dataPreparation2.ipynb\" target=\"_parent\"><img src=\"https://colab.research.google.com/assets/colab-badge.svg\" alt=\"Open In Colab\"/></a>"
      ]
    },
    {
      "cell_type": "markdown",
      "source": [
        "# Tugas Besar SLO\n",
        "<center>\n",
        "\n",
        "**Kelompok 7**\n",
        "\n",
        "**\"Deep-Learning-Based Diagnosis of Cassava Leaf Diseases Using CNN\"**\n",
        "\n",
        "| No.| Nama | NIM |\n",
        "|:-----:|:-----:|:-----:|\n",
        "| 1.  |Endang Rusiana| 201012320036 |\n",
        "| 2. |Rachelina Putri Arta S|201012320020|\n",
        "| 3. |Iqbal Kurniawan Perdana|201012320002|\n",
        "| 4. |Rizky Araffathia|201012320003|\n",
        "\n",
        "</center>"
      ],
      "metadata": {
        "id": "Hy9gOyiTKcoz"
      }
    },
    {
      "cell_type": "markdown",
      "source": [
        "# Mount G-drive"
      ],
      "metadata": {
        "id": "h_z1RkP4Klzd"
      }
    },
    {
      "cell_type": "code",
      "execution_count": null,
      "metadata": {
        "colab": {
          "base_uri": "https://localhost:8080/"
        },
        "id": "xZiwnLYAKY3u",
        "outputId": "24bda4ca-e47d-4ef2-a15e-d11839b98907"
      },
      "outputs": [
        {
          "output_type": "stream",
          "name": "stdout",
          "text": [
            "Mounted at /content/drive\n"
          ]
        }
      ],
      "source": [
        "from google.colab import drive\n",
        "drive.mount('/content/drive')"
      ]
    },
    {
      "cell_type": "markdown",
      "source": [
        "# Count Files"
      ],
      "metadata": {
        "id": "uka4H_hMKoAP"
      }
    },
    {
      "cell_type": "code",
      "source": [
        "\n",
        "import os\n",
        "\n",
        "# Folder path\n",
        "folder_path = '/content/drive/MyDrive/Colab Notebooks/SLO/Tugas_Besar/Submit/train_images_sorted'\n",
        "\n",
        "# Count number of files in each subfolder (0 to 4)\n",
        "for i in range(5):\n",
        "    subfolder_path = os.path.join(folder_path, str(i))\n",
        "    files = os.listdir(subfolder_path)\n",
        "    num_files = len(files)\n",
        "    print(f\"Number of files in folder {i}: {num_files}\")"
      ],
      "metadata": {
        "colab": {
          "base_uri": "https://localhost:8080/"
        },
        "id": "2Mxwiqa2K1vR",
        "outputId": "7eb73770-fc42-4809-aba5-ba214ae3d3bb"
      },
      "execution_count": null,
      "outputs": [
        {
          "output_type": "stream",
          "name": "stdout",
          "text": [
            "Number of files in folder 0: 470\n",
            "Number of files in folder 1: 680\n",
            "Number of files in folder 2: 575\n",
            "Number of files in folder 3: 777\n",
            "Number of files in folder 4: 490\n"
          ]
        }
      ]
    },
    {
      "cell_type": "markdown",
      "source": [
        "Create new dir"
      ],
      "metadata": {
        "id": "-KdCuO0Aazd7"
      }
    },
    {
      "cell_type": "code",
      "source": [
        "import os\n",
        "import shutil\n",
        "import random\n",
        "from pathlib import Path\n",
        "\n",
        "# Define paths\n",
        "source_dir = Path(\"/content/drive/MyDrive/Colab Notebooks/SLO/Tugas_Besar/Submit/train_images_sorted\")\n",
        "destination_dir = Path(\"/content/drive/MyDrive/Colab Notebooks/SLO/Tugas_Besar/Submit/used_train_images_sorted\")\n",
        "\n",
        "# Create destination directories\n",
        "destination_train = destination_dir / \"train\"\n",
        "destination_val = destination_dir / \"validation\"\n",
        "destination_test = destination_dir / \"test\"\n",
        "\n",
        "for folder in [destination_train, destination_val, destination_test]:\n",
        "    for i in range(5):\n",
        "        (folder / str(i)).mkdir(parents=True, exist_ok=True)\n",
        "\n",
        "# Function to copy files\n",
        "def copy_files(file_list, dest_folder):\n",
        "    for file in file_list:\n",
        "        shutil.copy(file, dest_folder / file.parent.name / file.name)\n",
        "\n",
        "# Process each class\n",
        "for i in range(5):\n",
        "    class_dir = source_dir / str(i)\n",
        "    images = list(class_dir.glob(\"*.jpg\"))  # Adjust extension as needed\n",
        "    selected_images = random.sample(images, 100)\n",
        "\n",
        "    # Split images\n",
        "    train_count = int(0.6 * len(selected_images))\n",
        "    val_count = int(0.2 * len(selected_images))\n",
        "\n",
        "    train_images = selected_images[:train_count]\n",
        "    val_images = selected_images[train_count:train_count + val_count]\n",
        "    test_images = selected_images[train_count + val_count:]\n",
        "\n",
        "    # Copy images to respective directories\n",
        "    copy_files(train_images, destination_train)\n",
        "    copy_files(val_images, destination_val)\n",
        "    copy_files(test_images, destination_test)\n",
        "\n",
        "print(\"Images have been copied and split into train, validation, and test sets.\")\n"
      ],
      "metadata": {
        "colab": {
          "base_uri": "https://localhost:8080/"
        },
        "id": "F0JPyhkeaxzn",
        "outputId": "70729040-7254-45d7-b879-a58b6dd580f2"
      },
      "execution_count": null,
      "outputs": [
        {
          "output_type": "stream",
          "name": "stdout",
          "text": [
            "Images have been copied and split into train, validation, and test sets.\n"
          ]
        }
      ]
    },
    {
      "cell_type": "markdown",
      "source": [
        "# Count files"
      ],
      "metadata": {
        "id": "Gq5nvppGenk2"
      }
    },
    {
      "cell_type": "code",
      "source": [
        "\n",
        "import os\n",
        "\n",
        "# Folder path\n",
        "folder_path = '/content/drive/MyDrive/Colab Notebooks/SLO/Tugas_Besar/Submit/used_train_images_sorted/train'\n",
        "\n",
        "print(\"train dataset:\")\n",
        "# Count number of files in each subfolder (0 to 4)\n",
        "for i in range(5):\n",
        "    subfolder_path = os.path.join(folder_path, str(i))\n",
        "    files = os.listdir(subfolder_path)\n",
        "    num_files = len(files)\n",
        "    print(f\"Number of files in folder {i}: {num_files}\")\n",
        "\n",
        "\n",
        "import os\n",
        "\n",
        "# Folder path\n",
        "folder_path = '/content/drive/MyDrive/Colab Notebooks/SLO/Tugas_Besar/Submit/used_train_images_sorted/validation'\n",
        "\n",
        "print(\"validation dataset:\")\n",
        "# Count number of files in each subfolder (0 to 4)\n",
        "for i in range(5):\n",
        "    subfolder_path = os.path.join(folder_path, str(i))\n",
        "    files = os.listdir(subfolder_path)\n",
        "    num_files = len(files)\n",
        "    print(f\"Number of files in folder {i}: {num_files}\")\n",
        "\n",
        "\n",
        "import os\n",
        "\n",
        "# Folder path\n",
        "folder_path = '/content/drive/MyDrive/Colab Notebooks/SLO/Tugas_Besar/Submit/used_train_images_sorted/test'\n",
        "\n",
        "print(\"test dataset:\")\n",
        "# Count number of files in each subfolder (0 to 4)\n",
        "for i in range(5):\n",
        "    subfolder_path = os.path.join(folder_path, str(i))\n",
        "    files = os.listdir(subfolder_path)\n",
        "    num_files = len(files)\n",
        "    print(f\"Number of files in folder {i}: {num_files}\")"
      ],
      "metadata": {
        "colab": {
          "base_uri": "https://localhost:8080/",
          "height": 258
        },
        "id": "OQh3vgcLepk-",
        "outputId": "6b4c3a68-d9b9-49fe-bf05-1a1596fa7e83"
      },
      "execution_count": null,
      "outputs": [
        {
          "output_type": "stream",
          "name": "stdout",
          "text": [
            "train dataset:\n"
          ]
        },
        {
          "output_type": "error",
          "ename": "FileNotFoundError",
          "evalue": "[Errno 2] No such file or directory: '/content/drive/MyDrive/Colab Notebooks/SLO/Tugas_Besar/Submit/train_images_sorted/train/0'",
          "traceback": [
            "\u001b[0;31m---------------------------------------------------------------------------\u001b[0m",
            "\u001b[0;31mFileNotFoundError\u001b[0m                         Traceback (most recent call last)",
            "\u001b[0;32m<ipython-input-6-ece237a1ca98>\u001b[0m in \u001b[0;36m<cell line: 8>\u001b[0;34m()\u001b[0m\n\u001b[1;32m      8\u001b[0m \u001b[0;32mfor\u001b[0m \u001b[0mi\u001b[0m \u001b[0;32min\u001b[0m \u001b[0mrange\u001b[0m\u001b[0;34m(\u001b[0m\u001b[0;36m5\u001b[0m\u001b[0;34m)\u001b[0m\u001b[0;34m:\u001b[0m\u001b[0;34m\u001b[0m\u001b[0;34m\u001b[0m\u001b[0m\n\u001b[1;32m      9\u001b[0m     \u001b[0msubfolder_path\u001b[0m \u001b[0;34m=\u001b[0m \u001b[0mos\u001b[0m\u001b[0;34m.\u001b[0m\u001b[0mpath\u001b[0m\u001b[0;34m.\u001b[0m\u001b[0mjoin\u001b[0m\u001b[0;34m(\u001b[0m\u001b[0mfolder_path\u001b[0m\u001b[0;34m,\u001b[0m \u001b[0mstr\u001b[0m\u001b[0;34m(\u001b[0m\u001b[0mi\u001b[0m\u001b[0;34m)\u001b[0m\u001b[0;34m)\u001b[0m\u001b[0;34m\u001b[0m\u001b[0;34m\u001b[0m\u001b[0m\n\u001b[0;32m---> 10\u001b[0;31m     \u001b[0mfiles\u001b[0m \u001b[0;34m=\u001b[0m \u001b[0mos\u001b[0m\u001b[0;34m.\u001b[0m\u001b[0mlistdir\u001b[0m\u001b[0;34m(\u001b[0m\u001b[0msubfolder_path\u001b[0m\u001b[0;34m)\u001b[0m\u001b[0;34m\u001b[0m\u001b[0;34m\u001b[0m\u001b[0m\n\u001b[0m\u001b[1;32m     11\u001b[0m     \u001b[0mnum_files\u001b[0m \u001b[0;34m=\u001b[0m \u001b[0mlen\u001b[0m\u001b[0;34m(\u001b[0m\u001b[0mfiles\u001b[0m\u001b[0;34m)\u001b[0m\u001b[0;34m\u001b[0m\u001b[0;34m\u001b[0m\u001b[0m\n\u001b[1;32m     12\u001b[0m     \u001b[0mprint\u001b[0m\u001b[0;34m(\u001b[0m\u001b[0;34mf\"Number of files in folder {i}: {num_files}\"\u001b[0m\u001b[0;34m)\u001b[0m\u001b[0;34m\u001b[0m\u001b[0;34m\u001b[0m\u001b[0m\n",
            "\u001b[0;31mFileNotFoundError\u001b[0m: [Errno 2] No such file or directory: '/content/drive/MyDrive/Colab Notebooks/SLO/Tugas_Besar/Submit/train_images_sorted/train/0'"
          ]
        }
      ]
    }
  ]
}