{
  "nbformat": 4,
  "nbformat_minor": 0,
  "metadata": {
    "colab": {
      "provenance": [],
      "mount_file_id": "1NewCJqviUYJmcDoQjyOG3PxY9AN35b1H",
      "authorship_tag": "ABX9TyNlU2xhflUUQdhH6egW8l1X",
      "include_colab_link": true
    },
    "kernelspec": {
      "name": "python3",
      "display_name": "Python 3"
    },
    "language_info": {
      "name": "python"
    }
  },
  "cells": [
    {
      "cell_type": "markdown",
      "metadata": {
        "id": "view-in-github",
        "colab_type": "text"
      },
      "source": [
        "<a href=\"https://colab.research.google.com/github/endangrusiana123/SLO/blob/main/assignment5_endang_rusiana_201012320036.ipynb\" target=\"_parent\"><img src=\"https://colab.research.google.com/assets/colab-badge.svg\" alt=\"Open In Colab\"/></a>"
      ]
    },
    {
      "cell_type": "markdown",
      "source": [
        "# Week 5: Assignment-Data Visualization"
      ],
      "metadata": {
        "id": "xUdR-KBwjhHA"
      }
    },
    {
      "cell_type": "markdown",
      "source": [
        "Lakukan telaah dengan dengan ketentuan yang tertulis di Latihan 1 pada slide \"Lecture Note 6-1: Data VisualizationFile \"."
      ],
      "metadata": {
        "id": "ogzJ0MqkjzZl"
      }
    },
    {
      "cell_type": "markdown",
      "source": [
        "Menampilkan data head untuk menelaah data"
      ],
      "metadata": {
        "id": "AtAIiOQnn9U-"
      }
    },
    {
      "cell_type": "code",
      "source": [
        "from google.colab import drive\n",
        "drive.mount('/content/drive/')\n",
        "import pandas as pd\n",
        "\n",
        "path = \"/content/drive/MyDrive/Colab Notebooks/SLO/Tugas_Week_5/epl-goalScorer(20-21).csv\"\n",
        "df = pd.read_csv(path)\n",
        "df.head()"
      ],
      "metadata": {
        "colab": {
          "base_uri": "https://localhost:8080/",
          "height": 330
        },
        "id": "ZsY8J2K5lL9M",
        "outputId": "0da24422-4793-4d70-8618-63f31cfc86c3"
      },
      "execution_count": null,
      "outputs": [
        {
          "output_type": "stream",
          "name": "stdout",
          "text": [
            "Drive already mounted at /content/drive/; to attempt to forcibly remount, call drive.mount(\"/content/drive/\", force_remount=True).\n"
          ]
        },
        {
          "output_type": "execute_result",
          "data": {
            "text/plain": [
              "   Unnamed: 0    id      player_name  games  time  goals         xG  assists  \\\n",
              "0           0   647       Harry Kane     35  3097     23  22.174859       14   \n",
              "1           1  1250    Mohamed Salah     37  3085     22  20.250847        5   \n",
              "2           2  1228  Bruno Fernandes     37  3117     18  16.019454       12   \n",
              "3           3   453    Son Heung-Min     37  3139     17  11.023287       10   \n",
              "4           4   822  Patrick Bamford     38  3085     17  18.401863        7   \n",
              "\n",
              "          xA  shots  key_passes  yellow_cards  red_cards position  \\\n",
              "0   7.577094    138          49             1          0        F   \n",
              "1   6.528526    126          55             0          0    F M S   \n",
              "2  11.474996    121          95             6          0      M S   \n",
              "3   9.512992     68          75             0          0    F M S   \n",
              "4   3.782247    107          30             3          0      F S   \n",
              "\n",
              "          team_title  npg       npxG    xGChain  xGBuildup  \n",
              "0          Tottenham   19  19.130183  24.995648   4.451257  \n",
              "1          Liverpool   16  15.683834  28.968234   9.800236  \n",
              "2  Manchester United    9   8.407840  26.911412  11.932285  \n",
              "3          Tottenham   16  10.262118  20.671916   6.608751  \n",
              "4              Leeds   15  16.879525  23.394953   4.131796  "
            ],
            "text/html": [
              "\n",
              "  <div id=\"df-d0cdf902-55a9-4586-8e7d-ece4b4846598\" class=\"colab-df-container\">\n",
              "    <div>\n",
              "<style scoped>\n",
              "    .dataframe tbody tr th:only-of-type {\n",
              "        vertical-align: middle;\n",
              "    }\n",
              "\n",
              "    .dataframe tbody tr th {\n",
              "        vertical-align: top;\n",
              "    }\n",
              "\n",
              "    .dataframe thead th {\n",
              "        text-align: right;\n",
              "    }\n",
              "</style>\n",
              "<table border=\"1\" class=\"dataframe\">\n",
              "  <thead>\n",
              "    <tr style=\"text-align: right;\">\n",
              "      <th></th>\n",
              "      <th>Unnamed: 0</th>\n",
              "      <th>id</th>\n",
              "      <th>player_name</th>\n",
              "      <th>games</th>\n",
              "      <th>time</th>\n",
              "      <th>goals</th>\n",
              "      <th>xG</th>\n",
              "      <th>assists</th>\n",
              "      <th>xA</th>\n",
              "      <th>shots</th>\n",
              "      <th>key_passes</th>\n",
              "      <th>yellow_cards</th>\n",
              "      <th>red_cards</th>\n",
              "      <th>position</th>\n",
              "      <th>team_title</th>\n",
              "      <th>npg</th>\n",
              "      <th>npxG</th>\n",
              "      <th>xGChain</th>\n",
              "      <th>xGBuildup</th>\n",
              "    </tr>\n",
              "  </thead>\n",
              "  <tbody>\n",
              "    <tr>\n",
              "      <th>0</th>\n",
              "      <td>0</td>\n",
              "      <td>647</td>\n",
              "      <td>Harry Kane</td>\n",
              "      <td>35</td>\n",
              "      <td>3097</td>\n",
              "      <td>23</td>\n",
              "      <td>22.174859</td>\n",
              "      <td>14</td>\n",
              "      <td>7.577094</td>\n",
              "      <td>138</td>\n",
              "      <td>49</td>\n",
              "      <td>1</td>\n",
              "      <td>0</td>\n",
              "      <td>F</td>\n",
              "      <td>Tottenham</td>\n",
              "      <td>19</td>\n",
              "      <td>19.130183</td>\n",
              "      <td>24.995648</td>\n",
              "      <td>4.451257</td>\n",
              "    </tr>\n",
              "    <tr>\n",
              "      <th>1</th>\n",
              "      <td>1</td>\n",
              "      <td>1250</td>\n",
              "      <td>Mohamed Salah</td>\n",
              "      <td>37</td>\n",
              "      <td>3085</td>\n",
              "      <td>22</td>\n",
              "      <td>20.250847</td>\n",
              "      <td>5</td>\n",
              "      <td>6.528526</td>\n",
              "      <td>126</td>\n",
              "      <td>55</td>\n",
              "      <td>0</td>\n",
              "      <td>0</td>\n",
              "      <td>F M S</td>\n",
              "      <td>Liverpool</td>\n",
              "      <td>16</td>\n",
              "      <td>15.683834</td>\n",
              "      <td>28.968234</td>\n",
              "      <td>9.800236</td>\n",
              "    </tr>\n",
              "    <tr>\n",
              "      <th>2</th>\n",
              "      <td>2</td>\n",
              "      <td>1228</td>\n",
              "      <td>Bruno Fernandes</td>\n",
              "      <td>37</td>\n",
              "      <td>3117</td>\n",
              "      <td>18</td>\n",
              "      <td>16.019454</td>\n",
              "      <td>12</td>\n",
              "      <td>11.474996</td>\n",
              "      <td>121</td>\n",
              "      <td>95</td>\n",
              "      <td>6</td>\n",
              "      <td>0</td>\n",
              "      <td>M S</td>\n",
              "      <td>Manchester United</td>\n",
              "      <td>9</td>\n",
              "      <td>8.407840</td>\n",
              "      <td>26.911412</td>\n",
              "      <td>11.932285</td>\n",
              "    </tr>\n",
              "    <tr>\n",
              "      <th>3</th>\n",
              "      <td>3</td>\n",
              "      <td>453</td>\n",
              "      <td>Son Heung-Min</td>\n",
              "      <td>37</td>\n",
              "      <td>3139</td>\n",
              "      <td>17</td>\n",
              "      <td>11.023287</td>\n",
              "      <td>10</td>\n",
              "      <td>9.512992</td>\n",
              "      <td>68</td>\n",
              "      <td>75</td>\n",
              "      <td>0</td>\n",
              "      <td>0</td>\n",
              "      <td>F M S</td>\n",
              "      <td>Tottenham</td>\n",
              "      <td>16</td>\n",
              "      <td>10.262118</td>\n",
              "      <td>20.671916</td>\n",
              "      <td>6.608751</td>\n",
              "    </tr>\n",
              "    <tr>\n",
              "      <th>4</th>\n",
              "      <td>4</td>\n",
              "      <td>822</td>\n",
              "      <td>Patrick Bamford</td>\n",
              "      <td>38</td>\n",
              "      <td>3085</td>\n",
              "      <td>17</td>\n",
              "      <td>18.401863</td>\n",
              "      <td>7</td>\n",
              "      <td>3.782247</td>\n",
              "      <td>107</td>\n",
              "      <td>30</td>\n",
              "      <td>3</td>\n",
              "      <td>0</td>\n",
              "      <td>F S</td>\n",
              "      <td>Leeds</td>\n",
              "      <td>15</td>\n",
              "      <td>16.879525</td>\n",
              "      <td>23.394953</td>\n",
              "      <td>4.131796</td>\n",
              "    </tr>\n",
              "  </tbody>\n",
              "</table>\n",
              "</div>\n",
              "    <div class=\"colab-df-buttons\">\n",
              "\n",
              "  <div class=\"colab-df-container\">\n",
              "    <button class=\"colab-df-convert\" onclick=\"convertToInteractive('df-d0cdf902-55a9-4586-8e7d-ece4b4846598')\"\n",
              "            title=\"Convert this dataframe to an interactive table.\"\n",
              "            style=\"display:none;\">\n",
              "\n",
              "  <svg xmlns=\"http://www.w3.org/2000/svg\" height=\"24px\" viewBox=\"0 -960 960 960\">\n",
              "    <path d=\"M120-120v-720h720v720H120Zm60-500h600v-160H180v160Zm220 220h160v-160H400v160Zm0 220h160v-160H400v160ZM180-400h160v-160H180v160Zm440 0h160v-160H620v160ZM180-180h160v-160H180v160Zm440 0h160v-160H620v160Z\"/>\n",
              "  </svg>\n",
              "    </button>\n",
              "\n",
              "  <style>\n",
              "    .colab-df-container {\n",
              "      display:flex;\n",
              "      gap: 12px;\n",
              "    }\n",
              "\n",
              "    .colab-df-convert {\n",
              "      background-color: #E8F0FE;\n",
              "      border: none;\n",
              "      border-radius: 50%;\n",
              "      cursor: pointer;\n",
              "      display: none;\n",
              "      fill: #1967D2;\n",
              "      height: 32px;\n",
              "      padding: 0 0 0 0;\n",
              "      width: 32px;\n",
              "    }\n",
              "\n",
              "    .colab-df-convert:hover {\n",
              "      background-color: #E2EBFA;\n",
              "      box-shadow: 0px 1px 2px rgba(60, 64, 67, 0.3), 0px 1px 3px 1px rgba(60, 64, 67, 0.15);\n",
              "      fill: #174EA6;\n",
              "    }\n",
              "\n",
              "    .colab-df-buttons div {\n",
              "      margin-bottom: 4px;\n",
              "    }\n",
              "\n",
              "    [theme=dark] .colab-df-convert {\n",
              "      background-color: #3B4455;\n",
              "      fill: #D2E3FC;\n",
              "    }\n",
              "\n",
              "    [theme=dark] .colab-df-convert:hover {\n",
              "      background-color: #434B5C;\n",
              "      box-shadow: 0px 1px 3px 1px rgba(0, 0, 0, 0.15);\n",
              "      filter: drop-shadow(0px 1px 2px rgba(0, 0, 0, 0.3));\n",
              "      fill: #FFFFFF;\n",
              "    }\n",
              "  </style>\n",
              "\n",
              "    <script>\n",
              "      const buttonEl =\n",
              "        document.querySelector('#df-d0cdf902-55a9-4586-8e7d-ece4b4846598 button.colab-df-convert');\n",
              "      buttonEl.style.display =\n",
              "        google.colab.kernel.accessAllowed ? 'block' : 'none';\n",
              "\n",
              "      async function convertToInteractive(key) {\n",
              "        const element = document.querySelector('#df-d0cdf902-55a9-4586-8e7d-ece4b4846598');\n",
              "        const dataTable =\n",
              "          await google.colab.kernel.invokeFunction('convertToInteractive',\n",
              "                                                    [key], {});\n",
              "        if (!dataTable) return;\n",
              "\n",
              "        const docLinkHtml = 'Like what you see? Visit the ' +\n",
              "          '<a target=\"_blank\" href=https://colab.research.google.com/notebooks/data_table.ipynb>data table notebook</a>'\n",
              "          + ' to learn more about interactive tables.';\n",
              "        element.innerHTML = '';\n",
              "        dataTable['output_type'] = 'display_data';\n",
              "        await google.colab.output.renderOutput(dataTable, element);\n",
              "        const docLink = document.createElement('div');\n",
              "        docLink.innerHTML = docLinkHtml;\n",
              "        element.appendChild(docLink);\n",
              "      }\n",
              "    </script>\n",
              "  </div>\n",
              "\n",
              "\n",
              "<div id=\"df-45f6997b-f8c0-406a-9b4f-8d6e9ef141ce\">\n",
              "  <button class=\"colab-df-quickchart\" onclick=\"quickchart('df-45f6997b-f8c0-406a-9b4f-8d6e9ef141ce')\"\n",
              "            title=\"Suggest charts\"\n",
              "            style=\"display:none;\">\n",
              "\n",
              "<svg xmlns=\"http://www.w3.org/2000/svg\" height=\"24px\"viewBox=\"0 0 24 24\"\n",
              "     width=\"24px\">\n",
              "    <g>\n",
              "        <path d=\"M19 3H5c-1.1 0-2 .9-2 2v14c0 1.1.9 2 2 2h14c1.1 0 2-.9 2-2V5c0-1.1-.9-2-2-2zM9 17H7v-7h2v7zm4 0h-2V7h2v10zm4 0h-2v-4h2v4z\"/>\n",
              "    </g>\n",
              "</svg>\n",
              "  </button>\n",
              "\n",
              "<style>\n",
              "  .colab-df-quickchart {\n",
              "      --bg-color: #E8F0FE;\n",
              "      --fill-color: #1967D2;\n",
              "      --hover-bg-color: #E2EBFA;\n",
              "      --hover-fill-color: #174EA6;\n",
              "      --disabled-fill-color: #AAA;\n",
              "      --disabled-bg-color: #DDD;\n",
              "  }\n",
              "\n",
              "  [theme=dark] .colab-df-quickchart {\n",
              "      --bg-color: #3B4455;\n",
              "      --fill-color: #D2E3FC;\n",
              "      --hover-bg-color: #434B5C;\n",
              "      --hover-fill-color: #FFFFFF;\n",
              "      --disabled-bg-color: #3B4455;\n",
              "      --disabled-fill-color: #666;\n",
              "  }\n",
              "\n",
              "  .colab-df-quickchart {\n",
              "    background-color: var(--bg-color);\n",
              "    border: none;\n",
              "    border-radius: 50%;\n",
              "    cursor: pointer;\n",
              "    display: none;\n",
              "    fill: var(--fill-color);\n",
              "    height: 32px;\n",
              "    padding: 0;\n",
              "    width: 32px;\n",
              "  }\n",
              "\n",
              "  .colab-df-quickchart:hover {\n",
              "    background-color: var(--hover-bg-color);\n",
              "    box-shadow: 0 1px 2px rgba(60, 64, 67, 0.3), 0 1px 3px 1px rgba(60, 64, 67, 0.15);\n",
              "    fill: var(--button-hover-fill-color);\n",
              "  }\n",
              "\n",
              "  .colab-df-quickchart-complete:disabled,\n",
              "  .colab-df-quickchart-complete:disabled:hover {\n",
              "    background-color: var(--disabled-bg-color);\n",
              "    fill: var(--disabled-fill-color);\n",
              "    box-shadow: none;\n",
              "  }\n",
              "\n",
              "  .colab-df-spinner {\n",
              "    border: 2px solid var(--fill-color);\n",
              "    border-color: transparent;\n",
              "    border-bottom-color: var(--fill-color);\n",
              "    animation:\n",
              "      spin 1s steps(1) infinite;\n",
              "  }\n",
              "\n",
              "  @keyframes spin {\n",
              "    0% {\n",
              "      border-color: transparent;\n",
              "      border-bottom-color: var(--fill-color);\n",
              "      border-left-color: var(--fill-color);\n",
              "    }\n",
              "    20% {\n",
              "      border-color: transparent;\n",
              "      border-left-color: var(--fill-color);\n",
              "      border-top-color: var(--fill-color);\n",
              "    }\n",
              "    30% {\n",
              "      border-color: transparent;\n",
              "      border-left-color: var(--fill-color);\n",
              "      border-top-color: var(--fill-color);\n",
              "      border-right-color: var(--fill-color);\n",
              "    }\n",
              "    40% {\n",
              "      border-color: transparent;\n",
              "      border-right-color: var(--fill-color);\n",
              "      border-top-color: var(--fill-color);\n",
              "    }\n",
              "    60% {\n",
              "      border-color: transparent;\n",
              "      border-right-color: var(--fill-color);\n",
              "    }\n",
              "    80% {\n",
              "      border-color: transparent;\n",
              "      border-right-color: var(--fill-color);\n",
              "      border-bottom-color: var(--fill-color);\n",
              "    }\n",
              "    90% {\n",
              "      border-color: transparent;\n",
              "      border-bottom-color: var(--fill-color);\n",
              "    }\n",
              "  }\n",
              "</style>\n",
              "\n",
              "  <script>\n",
              "    async function quickchart(key) {\n",
              "      const quickchartButtonEl =\n",
              "        document.querySelector('#' + key + ' button');\n",
              "      quickchartButtonEl.disabled = true;  // To prevent multiple clicks.\n",
              "      quickchartButtonEl.classList.add('colab-df-spinner');\n",
              "      try {\n",
              "        const charts = await google.colab.kernel.invokeFunction(\n",
              "            'suggestCharts', [key], {});\n",
              "      } catch (error) {\n",
              "        console.error('Error during call to suggestCharts:', error);\n",
              "      }\n",
              "      quickchartButtonEl.classList.remove('colab-df-spinner');\n",
              "      quickchartButtonEl.classList.add('colab-df-quickchart-complete');\n",
              "    }\n",
              "    (() => {\n",
              "      let quickchartButtonEl =\n",
              "        document.querySelector('#df-45f6997b-f8c0-406a-9b4f-8d6e9ef141ce button');\n",
              "      quickchartButtonEl.style.display =\n",
              "        google.colab.kernel.accessAllowed ? 'block' : 'none';\n",
              "    })();\n",
              "  </script>\n",
              "</div>\n",
              "    </div>\n",
              "  </div>\n"
            ],
            "application/vnd.google.colaboratory.intrinsic+json": {
              "type": "dataframe",
              "variable_name": "df",
              "summary": "{\n  \"name\": \"df\",\n  \"rows\": 522,\n  \"fields\": [\n    {\n      \"column\": \"Unnamed: 0\",\n      \"properties\": {\n        \"dtype\": \"number\",\n        \"std\": 150,\n        \"min\": 0,\n        \"max\": 521,\n        \"num_unique_values\": 522,\n        \"samples\": [\n          434,\n          440,\n          6\n        ],\n        \"semantic_type\": \"\",\n        \"description\": \"\"\n      }\n    },\n    {\n      \"column\": \"id\",\n      \"properties\": {\n        \"dtype\": \"number\",\n        \"std\": 3281,\n        \"min\": 65,\n        \"max\": 9552,\n        \"num_unique_values\": 522,\n        \"samples\": [\n          7326,\n          7689,\n          755\n        ],\n        \"semantic_type\": \"\",\n        \"description\": \"\"\n      }\n    },\n    {\n      \"column\": \"player_name\",\n      \"properties\": {\n        \"dtype\": \"string\",\n        \"num_unique_values\": 522,\n        \"samples\": [\n          \"Kayne Ramsay\",\n          \"Ben Godfrey\",\n          \"Jamie Vardy\"\n        ],\n        \"semantic_type\": \"\",\n        \"description\": \"\"\n      }\n    },\n    {\n      \"column\": \"games\",\n      \"properties\": {\n        \"dtype\": \"number\",\n        \"std\": 11,\n        \"min\": 1,\n        \"max\": 38,\n        \"num_unique_values\": 38,\n        \"samples\": [\n          2,\n          8,\n          34\n        ],\n        \"semantic_type\": \"\",\n        \"description\": \"\"\n      }\n    },\n    {\n      \"column\": \"time\",\n      \"properties\": {\n        \"dtype\": \"number\",\n        \"std\": 1031,\n        \"min\": 1,\n        \"max\": 3420,\n        \"num_unique_values\": 441,\n        \"samples\": [\n          2481,\n          113,\n          1109\n        ],\n        \"semantic_type\": \"\",\n        \"description\": \"\"\n      }\n    },\n    {\n      \"column\": \"goals\",\n      \"properties\": {\n        \"dtype\": \"number\",\n        \"std\": 3,\n        \"min\": 0,\n        \"max\": 23,\n        \"num_unique_values\": 21,\n        \"samples\": [\n          23,\n          3,\n          5\n        ],\n        \"semantic_type\": \"\",\n        \"description\": \"\"\n      }\n    },\n    {\n      \"column\": \"xG\",\n      \"properties\": {\n        \"dtype\": \"number\",\n        \"std\": 3.3179459760100185,\n        \"min\": 0.0,\n        \"max\": 22.17485890910029,\n        \"num_unique_values\": 430,\n        \"samples\": [\n          0.2156818900257349,\n          6.251116008497775,\n          0.5030050054192543\n        ],\n        \"semantic_type\": \"\",\n        \"description\": \"\"\n      }\n    },\n    {\n      \"column\": \"assists\",\n      \"properties\": {\n        \"dtype\": \"number\",\n        \"std\": 2,\n        \"min\": 0,\n        \"max\": 14,\n        \"num_unique_values\": 14,\n        \"samples\": [\n          3,\n          1,\n          14\n        ],\n        \"semantic_type\": \"\",\n        \"description\": \"\"\n      }\n    },\n    {\n      \"column\": \"xA\",\n      \"properties\": {\n        \"dtype\": \"number\",\n        \"std\": 1.8865097552119579,\n        \"min\": 0.0,\n        \"max\": 11.474995978176594,\n        \"num_unique_values\": 418,\n        \"samples\": [\n          1.9152584234252568,\n          1.0544508751481771,\n          0.0191399920731782\n        ],\n        \"semantic_type\": \"\",\n        \"description\": \"\"\n      }\n    },\n    {\n      \"column\": \"shots\",\n      \"properties\": {\n        \"dtype\": \"number\",\n        \"std\": 21,\n        \"min\": 0,\n        \"max\": 138,\n        \"num_unique_values\": 80,\n        \"samples\": [\n          23,\n          138,\n          64\n        ],\n        \"semantic_type\": \"\",\n        \"description\": \"\"\n      }\n    },\n    {\n      \"column\": \"key_passes\",\n      \"properties\": {\n        \"dtype\": \"number\",\n        \"std\": 16,\n        \"min\": 0,\n        \"max\": 95,\n        \"num_unique_values\": 63,\n        \"samples\": [\n          3,\n          46,\n          49\n        ],\n        \"semantic_type\": \"\",\n        \"description\": \"\"\n      }\n    },\n    {\n      \"column\": \"yellow_cards\",\n      \"properties\": {\n        \"dtype\": \"number\",\n        \"std\": 2,\n        \"min\": 0,\n        \"max\": 12,\n        \"num_unique_values\": 13,\n        \"samples\": [\n          8,\n          9,\n          1\n        ],\n        \"semantic_type\": \"\",\n        \"description\": \"\"\n      }\n    },\n    {\n      \"column\": \"red_cards\",\n      \"properties\": {\n        \"dtype\": \"number\",\n        \"std\": 0,\n        \"min\": 0,\n        \"max\": 2,\n        \"num_unique_values\": 3,\n        \"samples\": [\n          0,\n          1,\n          2\n        ],\n        \"semantic_type\": \"\",\n        \"description\": \"\"\n      }\n    },\n    {\n      \"column\": \"position\",\n      \"properties\": {\n        \"dtype\": \"category\",\n        \"num_unique_values\": 14,\n        \"samples\": [\n          \"D F M S\",\n          \"GK\",\n          \"F\"\n        ],\n        \"semantic_type\": \"\",\n        \"description\": \"\"\n      }\n    },\n    {\n      \"column\": \"team_title\",\n      \"properties\": {\n        \"dtype\": \"category\",\n        \"num_unique_values\": 28,\n        \"samples\": [\n          \"Newcastle United\",\n          \"West Bromwich Albion,West Ham\",\n          \"Arsenal\"\n        ],\n        \"semantic_type\": \"\",\n        \"description\": \"\"\n      }\n    },\n    {\n      \"column\": \"npg\",\n      \"properties\": {\n        \"dtype\": \"number\",\n        \"std\": 2,\n        \"min\": 0,\n        \"max\": 19,\n        \"num_unique_values\": 17,\n        \"samples\": [\n          19,\n          16,\n          13\n        ],\n        \"semantic_type\": \"\",\n        \"description\": \"\"\n      }\n    },\n    {\n      \"column\": \"npxG\",\n      \"properties\": {\n        \"dtype\": \"number\",\n        \"std\": 2.9311764323943286,\n        \"min\": 0.0,\n        \"max\": 19.1301834397018,\n        \"num_unique_values\": 430,\n        \"samples\": [\n          0.2156818900257349,\n          5.48994714114815,\n          0.5030050054192543\n        ],\n        \"semantic_type\": \"\",\n        \"description\": \"\"\n      }\n    },\n    {\n      \"column\": \"xGChain\",\n      \"properties\": {\n        \"dtype\": \"number\",\n        \"std\": 5.600249081706102,\n        \"min\": 0.0,\n        \"max\": 28.968233548104763,\n        \"num_unique_values\": 493,\n        \"samples\": [\n          1.399339895695448,\n          14.60811685398221,\n          0.1446126699447631\n        ],\n        \"semantic_type\": \"\",\n        \"description\": \"\"\n      }\n    },\n    {\n      \"column\": \"xGBuildup\",\n      \"properties\": {\n        \"dtype\": \"number\",\n        \"std\": 3.3765842066484923,\n        \"min\": 0.0,\n        \"max\": 18.323005951941013,\n        \"num_unique_values\": 484,\n        \"samples\": [\n          0.1774143576622009,\n          2.1871695667505264,\n          0.5140482373535633\n        ],\n        \"semantic_type\": \"\",\n        \"description\": \"\"\n      }\n    }\n  ]\n}"
            }
          },
          "metadata": {},
          "execution_count": 13
        }
      ]
    },
    {
      "cell_type": "markdown",
      "source": [
        "1. 10 Player terbanyak mencetak gol"
      ],
      "metadata": {
        "id": "HQMNkBmio2yV"
      }
    },
    {
      "cell_type": "code",
      "source": [
        "df_sorted = df.sort_values(by='goals', ascending=False)\n",
        "top_10_players = df_sorted.head(10)[['player_name', 'goals']]\n",
        "print(top_10_players)"
      ],
      "metadata": {
        "colab": {
          "base_uri": "https://localhost:8080/"
        },
        "id": "b467p_6Jo8ai",
        "outputId": "abeecc7a-fc9b-47a1-e3c3-f75d7e75b394"
      },
      "execution_count": null,
      "outputs": [
        {
          "output_type": "stream",
          "name": "stdout",
          "text": [
            "             player_name  goals\n",
            "0             Harry Kane     23\n",
            "1          Mohamed Salah     22\n",
            "2        Bruno Fernandes     18\n",
            "3          Son Heung-Min     17\n",
            "4        Patrick Bamford     17\n",
            "5  Dominic Calvert-Lewin     16\n",
            "6            Jamie Vardy     15\n",
            "7          Ollie Watkins     14\n",
            "8         Ilkay Gündogan     13\n",
            "9    Alexandre Lacazette     13\n"
          ]
        }
      ]
    },
    {
      "cell_type": "markdown",
      "source": [
        "2. 10 player terlama durasi bermain"
      ],
      "metadata": {
        "id": "vo28rXdup0-Q"
      }
    },
    {
      "cell_type": "code",
      "source": [
        "df_sorted = df.sort_values(by='time', ascending=False)\n",
        "top_10_players = df_sorted.head(10)[['player_name', 'time']]\n",
        "print(top_10_players)"
      ],
      "metadata": {
        "colab": {
          "base_uri": "https://localhost:8080/"
        },
        "id": "HaDrw5v5p5PE",
        "outputId": "8a02eb8f-cb8e-4fb6-f30d-15933fe526bd"
      },
      "execution_count": null,
      "outputs": [
        {
          "output_type": "stream",
          "name": "stdout",
          "text": [
            "               player_name  time\n",
            "296            Hugo Lloris  3420\n",
            "378      Emiliano Martinez  3420\n",
            "311      Kasper Schmeichel  3420\n",
            "110  Pierre-Emile Højbjerg  3420\n",
            "40           Stuart Dallas  3412\n",
            "327           Matt Targett  3407\n",
            "480            Luke Ayling  3400\n",
            "204       Andrew Robertson  3391\n",
            "55         Youri Tielemans  3359\n",
            "7            Ollie Watkins  3330\n"
          ]
        }
      ]
    },
    {
      "cell_type": "markdown",
      "source": [
        "3. 10 player terbanyak assist"
      ],
      "metadata": {
        "id": "celmFOeMqPWP"
      }
    },
    {
      "cell_type": "code",
      "source": [
        "df_sorted = df.sort_values(by='assists', ascending=False)\n",
        "top_10_players = df_sorted.head(10)[['player_name', 'assists']]\n",
        "print(top_10_players)"
      ],
      "metadata": {
        "colab": {
          "base_uri": "https://localhost:8080/"
        },
        "id": "UOA9W5xgqRWN",
        "outputId": "cc0127b2-752e-4176-d3c5-4f50d0a769bc"
      },
      "execution_count": null,
      "outputs": [
        {
          "output_type": "stream",
          "name": "stdout",
          "text": [
            "         player_name  assists\n",
            "0         Harry Kane       14\n",
            "2    Bruno Fernandes       12\n",
            "58   Kevin De Bruyne       11\n",
            "3      Son Heung-Min       10\n",
            "51     Jack Grealish       10\n",
            "15   Marcus Rashford        9\n",
            "6        Jamie Vardy        9\n",
            "57          Raphinha        9\n",
            "49       Timo Werner        8\n",
            "281  Aaron Cresswell        8\n"
          ]
        }
      ]
    },
    {
      "cell_type": "markdown",
      "source": [
        "4 player pencetak gol terbanyak dari kesebelasan manchester city"
      ],
      "metadata": {
        "id": "_oPoAUf1qdVz"
      }
    },
    {
      "cell_type": "code",
      "source": [
        "man_city_players = df[df['team_title'] == 'Manchester City']\n",
        "man_city_sorted = man_city_players.sort_values(by='goals', ascending=False)\n",
        "top_4_goal_scorers = man_city_sorted.head(4)[['player_name', 'goals']]\n",
        "print(top_4_goal_scorers)"
      ],
      "metadata": {
        "colab": {
          "base_uri": "https://localhost:8080/"
        },
        "id": "E9T-nR2Yqhjj",
        "outputId": "9cf611bf-af43-4770-c426-d924a58b5d05"
      },
      "execution_count": null,
      "outputs": [
        {
          "output_type": "stream",
          "name": "stdout",
          "text": [
            "        player_name  goals\n",
            "8    Ilkay Gündogan     13\n",
            "22  Raheem Sterling     10\n",
            "28     Riyad Mahrez      9\n",
            "35    Gabriel Jesus      8\n"
          ]
        }
      ]
    },
    {
      "cell_type": "markdown",
      "source": [
        "5. Dari kesebelasan mana pencetak gol terbanyak?"
      ],
      "metadata": {
        "id": "hORtzGhBrWm3"
      }
    },
    {
      "cell_type": "code",
      "source": [
        "df_sorted = df.sort_values(by='goals', ascending=False)\n",
        "top_goal_scorer_team = df_sorted.iloc[0]['team_title']\n",
        "print(\"Team Title of the Top Goal Scorer:\", top_goal_scorer_team)"
      ],
      "metadata": {
        "colab": {
          "base_uri": "https://localhost:8080/"
        },
        "id": "SJmIG_GSrYee",
        "outputId": "3ec39b21-f68c-408c-b0d3-1a9e6ec6c28d"
      },
      "execution_count": null,
      "outputs": [
        {
          "output_type": "stream",
          "name": "stdout",
          "text": [
            "Team Title of the Top Goal Scorer: Tottenham\n"
          ]
        }
      ]
    },
    {
      "cell_type": "markdown",
      "source": [
        "6. Berapa jumlah kartu kuning dan merah yang diterima pembuat assist  terbanyak ?\n"
      ],
      "metadata": {
        "id": "AFnAseSvr5lK"
      }
    },
    {
      "cell_type": "code",
      "source": [
        "top_assist_player = df[df['assists'] == df['assists'].max()]\n",
        "player_info = top_assist_player[['player_name', 'assists', 'red_cards', 'yellow_cards']]\n",
        "print(player_info)"
      ],
      "metadata": {
        "colab": {
          "base_uri": "https://localhost:8080/"
        },
        "id": "TPPVdKQOr7z5",
        "outputId": "b1ec8533-198c-417b-9896-41cbe6883b3e"
      },
      "execution_count": null,
      "outputs": [
        {
          "output_type": "stream",
          "name": "stdout",
          "text": [
            "  player_name  assists  red_cards  yellow_cards\n",
            "0  Harry Kane       14          0             1\n"
          ]
        }
      ]
    },
    {
      "cell_type": "markdown",
      "source": [
        "7. Siapa yang jumlah assist dan golnya paling banyak dan dari kesebelasan mana ?"
      ],
      "metadata": {
        "id": "V7H9WqV4s9Hv"
      }
    },
    {
      "cell_type": "code",
      "source": [
        "df['goals_plus_assists'] = df['goals'] + df['assists']\n",
        "top_player = df[df['goals_plus_assists'] == df['goals_plus_assists'].max()]\n",
        "player_info = top_player[['player_name', 'team_title', 'goals', 'assists','goals_plus_assists']]\n",
        "print(player_info)"
      ],
      "metadata": {
        "colab": {
          "base_uri": "https://localhost:8080/"
        },
        "id": "ooMeIvIZtA-J",
        "outputId": "68b37f00-d8c7-4ad3-db57-0659d1ac93a1"
      },
      "execution_count": null,
      "outputs": [
        {
          "output_type": "stream",
          "name": "stdout",
          "text": [
            "  player_name team_title  goals  assists  goals_plus_assists\n",
            "0  Harry Kane  Tottenham     23       14                  37\n"
          ]
        }
      ]
    },
    {
      "cell_type": "markdown",
      "source": [
        "8. 5 kesebelasan yang menyumbangkan gol terbanyak"
      ],
      "metadata": {
        "id": "LYcqA1XIuTji"
      }
    },
    {
      "cell_type": "code",
      "source": [
        "team_goals = df.groupby('team_title')['goals'].sum()\n",
        "top_5_teams = team_goals.sort_values(ascending=False).head(5)\n",
        "print(top_5_teams)"
      ],
      "metadata": {
        "colab": {
          "base_uri": "https://localhost:8080/"
        },
        "id": "uWnEQAO2uVQJ",
        "outputId": "ccb2e9b5-7988-4feb-a0fd-529a6025e790"
      },
      "execution_count": null,
      "outputs": [
        {
          "output_type": "stream",
          "name": "stdout",
          "text": [
            "team_title\n",
            "Manchester City      77\n",
            "Manchester United    68\n",
            "Tottenham            66\n",
            "Liverpool            64\n",
            "Leicester            64\n",
            "Name: goals, dtype: int64\n"
          ]
        }
      ]
    },
    {
      "cell_type": "markdown",
      "source": [
        "9. Urutkan pemain berdasarkan jumlah gol terbanyak tanpa mendapatkan kartu sama sekali !"
      ],
      "metadata": {
        "id": "dOhS6jZWvJTQ"
      }
    },
    {
      "cell_type": "code",
      "source": [
        "filtered_players = df[(df['yellow_cards'] == 0) & (df['red_cards'] == 0)]\n",
        "sorted_players = filtered_players.sort_values(by='goals', ascending=False)\n",
        "sorted_player_info = sorted_players[['player_name', 'yellow_cards', 'red_cards', 'goals']]\n",
        "print(sorted_player_info)"
      ],
      "metadata": {
        "colab": {
          "base_uri": "https://localhost:8080/"
        },
        "id": "zrUA2wycvIQp",
        "outputId": "2d73dd57-0710-45dd-de59-1da51a9014ec"
      },
      "execution_count": null,
      "outputs": [
        {
          "output_type": "stream",
          "name": "stdout",
          "text": [
            "         player_name  yellow_cards  red_cards  goals\n",
            "1      Mohamed Salah             0          0     22\n",
            "3      Son Heung-Min             0          0     17\n",
            "13        Chris Wood             0          0     12\n",
            "28      Riyad Mahrez             0          0      9\n",
            "29     Harvey Barnes             0          0      9\n",
            "..               ...           ...        ...    ...\n",
            "353      Lys Mousset             0          0      0\n",
            "343    Islam Slimani             0          0      0\n",
            "341       Moise Kean             0          0      0\n",
            "340          Emerson             0          0      0\n",
            "521  Tyrese Francois             0          0      0\n",
            "\n",
            "[164 rows x 4 columns]\n"
          ]
        }
      ]
    }
  ]
}